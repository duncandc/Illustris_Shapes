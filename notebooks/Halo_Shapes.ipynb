{
 "cells": [
  {
   "cell_type": "code",
   "execution_count": 1,
   "metadata": {},
   "outputs": [],
   "source": [
    "import numpy as np\n",
    "import matplotlib.pyplot as plt\n",
    "from __future__ import print_function, division\n",
    "%matplotlib inline"
   ]
  },
  {
   "cell_type": "markdown",
   "metadata": {},
   "source": [
    "# Halo Shapes"
   ]
  },
  {
   "cell_type": "code",
   "execution_count": 2,
   "metadata": {},
   "outputs": [],
   "source": [
    "basePath = '/Volumes/G-RAID/simulations/unprocessed/Illustris/Illustris-1'\n",
    "snapNum = 135\n",
    "m_dm = 6.3*10**6.0 #dark matter particle mass\n",
    "little_h = 0.704\n",
    "Lbox = np.array([75.0]*3)\n",
    "\n",
    "ptcl_type = {'gas':0,\n",
    "             'dark-matter':1,\n",
    "             'tracers':3,\n",
    "             'stars/wind':4,\n",
    "             'black holes':5}"
   ]
  },
  {
   "cell_type": "code",
   "execution_count": 3,
   "metadata": {},
   "outputs": [
    {
     "ename": "IOError",
     "evalue": "Unable to open file (unable to open file: name = '/Volumes/G-RAID/simulations/unprocessed/Illustris/Illustris-1/groups_135/fof_subhalo_tab_135.0.hdf5', errno = 2, error message = 'No such file or directory', flags = 0, o_flags = 0)",
     "output_type": "error",
     "traceback": [
      "\u001b[0;31m---------------------------------------------------------------------------\u001b[0m",
      "\u001b[0;31mIOError\u001b[0m                                   Traceback (most recent call last)",
      "\u001b[0;32m<ipython-input-3-430171aaf7a6>\u001b[0m in \u001b[0;36m<module>\u001b[0;34m()\u001b[0m\n\u001b[1;32m      2\u001b[0m \u001b[0;32mfrom\u001b[0m \u001b[0millustris_python\u001b[0m\u001b[0;34m.\u001b[0m\u001b[0mgroupcat\u001b[0m \u001b[0;32mimport\u001b[0m \u001b[0mgcPath\u001b[0m\u001b[0;34m,\u001b[0m \u001b[0mloadHalos\u001b[0m\u001b[0;34m,\u001b[0m \u001b[0mloadSubhalos\u001b[0m\u001b[0;34m\u001b[0m\u001b[0m\n\u001b[1;32m      3\u001b[0m \u001b[0;34m\u001b[0m\u001b[0m\n\u001b[0;32m----> 4\u001b[0;31m \u001b[0mhalo_positions\u001b[0m \u001b[0;34m=\u001b[0m \u001b[0mloadHalos\u001b[0m\u001b[0;34m(\u001b[0m\u001b[0mbasePath\u001b[0m\u001b[0;34m,\u001b[0m \u001b[0msnapNum\u001b[0m\u001b[0;34m,\u001b[0m \u001b[0mfields\u001b[0m\u001b[0;34m=\u001b[0m\u001b[0;34m[\u001b[0m\u001b[0;34m'GroupPos'\u001b[0m\u001b[0;34m]\u001b[0m\u001b[0;34m)\u001b[0m\u001b[0;34m/\u001b[0m\u001b[0;36m1000.0\u001b[0m\u001b[0;34m\u001b[0m\u001b[0m\n\u001b[0m",
      "\u001b[0;32m/Users/duncan/Code/illustris_python/groupcat.pyc\u001b[0m in \u001b[0;36mloadHalos\u001b[0;34m(basePath, snapNum, fields)\u001b[0m\n\u001b[1;32m    105\u001b[0m        (optionally restrict to a subset given by fields). \"\"\"\n\u001b[1;32m    106\u001b[0m \u001b[0;34m\u001b[0m\u001b[0m\n\u001b[0;32m--> 107\u001b[0;31m     \u001b[0;32mreturn\u001b[0m \u001b[0mloadObjects\u001b[0m\u001b[0;34m(\u001b[0m\u001b[0mbasePath\u001b[0m\u001b[0;34m,\u001b[0m \u001b[0msnapNum\u001b[0m\u001b[0;34m,\u001b[0m \u001b[0;34m\"Group\"\u001b[0m\u001b[0;34m,\u001b[0m \u001b[0;34m\"groups\"\u001b[0m\u001b[0;34m,\u001b[0m \u001b[0mfields\u001b[0m\u001b[0;34m)\u001b[0m\u001b[0;34m\u001b[0m\u001b[0m\n\u001b[0m\u001b[1;32m    108\u001b[0m \u001b[0;34m\u001b[0m\u001b[0m\n\u001b[1;32m    109\u001b[0m \u001b[0;34m\u001b[0m\u001b[0m\n",
      "\u001b[0;32m/Users/duncan/Code/illustris_python/groupcat.pyc\u001b[0m in \u001b[0;36mloadObjects\u001b[0;34m(basePath, snapNum, gName, nName, fields)\u001b[0m\n\u001b[1;32m     36\u001b[0m \u001b[0;34m\u001b[0m\u001b[0m\n\u001b[1;32m     37\u001b[0m     \u001b[0;31m# load header from first chunk\u001b[0m\u001b[0;34m\u001b[0m\u001b[0;34m\u001b[0m\u001b[0m\n\u001b[0;32m---> 38\u001b[0;31m     \u001b[0;32mwith\u001b[0m \u001b[0mh5py\u001b[0m\u001b[0;34m.\u001b[0m\u001b[0mFile\u001b[0m\u001b[0;34m(\u001b[0m\u001b[0mgcPath\u001b[0m\u001b[0;34m(\u001b[0m\u001b[0mbasePath\u001b[0m\u001b[0;34m,\u001b[0m \u001b[0msnapNum\u001b[0m\u001b[0;34m)\u001b[0m\u001b[0;34m,\u001b[0m \u001b[0;34m'r'\u001b[0m\u001b[0;34m)\u001b[0m \u001b[0;32mas\u001b[0m \u001b[0mf\u001b[0m\u001b[0;34m:\u001b[0m\u001b[0;34m\u001b[0m\u001b[0m\n\u001b[0m\u001b[1;32m     39\u001b[0m \u001b[0;34m\u001b[0m\u001b[0m\n\u001b[1;32m     40\u001b[0m         \u001b[0mheader\u001b[0m \u001b[0;34m=\u001b[0m \u001b[0mdict\u001b[0m\u001b[0;34m(\u001b[0m\u001b[0mf\u001b[0m\u001b[0;34m[\u001b[0m\u001b[0;34m'Header'\u001b[0m\u001b[0;34m]\u001b[0m\u001b[0;34m.\u001b[0m\u001b[0mattrs\u001b[0m\u001b[0;34m.\u001b[0m\u001b[0mitems\u001b[0m\u001b[0;34m(\u001b[0m\u001b[0;34m)\u001b[0m\u001b[0;34m)\u001b[0m\u001b[0;34m\u001b[0m\u001b[0m\n",
      "\u001b[0;32m/Users/duncan/anaconda2/lib/python2.7/site-packages/h5py/_hl/files.pyc\u001b[0m in \u001b[0;36m__init__\u001b[0;34m(self, name, mode, driver, libver, userblock_size, swmr, **kwds)\u001b[0m\n\u001b[1;32m    310\u001b[0m             \u001b[0;32mwith\u001b[0m \u001b[0mphil\u001b[0m\u001b[0;34m:\u001b[0m\u001b[0;34m\u001b[0m\u001b[0m\n\u001b[1;32m    311\u001b[0m                 \u001b[0mfapl\u001b[0m \u001b[0;34m=\u001b[0m \u001b[0mmake_fapl\u001b[0m\u001b[0;34m(\u001b[0m\u001b[0mdriver\u001b[0m\u001b[0;34m,\u001b[0m \u001b[0mlibver\u001b[0m\u001b[0;34m,\u001b[0m \u001b[0;34m**\u001b[0m\u001b[0mkwds\u001b[0m\u001b[0;34m)\u001b[0m\u001b[0;34m\u001b[0m\u001b[0m\n\u001b[0;32m--> 312\u001b[0;31m                 \u001b[0mfid\u001b[0m \u001b[0;34m=\u001b[0m \u001b[0mmake_fid\u001b[0m\u001b[0;34m(\u001b[0m\u001b[0mname\u001b[0m\u001b[0;34m,\u001b[0m \u001b[0mmode\u001b[0m\u001b[0;34m,\u001b[0m \u001b[0muserblock_size\u001b[0m\u001b[0;34m,\u001b[0m \u001b[0mfapl\u001b[0m\u001b[0;34m,\u001b[0m \u001b[0mswmr\u001b[0m\u001b[0;34m=\u001b[0m\u001b[0mswmr\u001b[0m\u001b[0;34m)\u001b[0m\u001b[0;34m\u001b[0m\u001b[0m\n\u001b[0m\u001b[1;32m    313\u001b[0m \u001b[0;34m\u001b[0m\u001b[0m\n\u001b[1;32m    314\u001b[0m                 \u001b[0;32mif\u001b[0m \u001b[0mswmr_support\u001b[0m\u001b[0;34m:\u001b[0m\u001b[0;34m\u001b[0m\u001b[0m\n",
      "\u001b[0;32m/Users/duncan/anaconda2/lib/python2.7/site-packages/h5py/_hl/files.pyc\u001b[0m in \u001b[0;36mmake_fid\u001b[0;34m(name, mode, userblock_size, fapl, fcpl, swmr)\u001b[0m\n\u001b[1;32m    140\u001b[0m         \u001b[0;32mif\u001b[0m \u001b[0mswmr\u001b[0m \u001b[0;32mand\u001b[0m \u001b[0mswmr_support\u001b[0m\u001b[0;34m:\u001b[0m\u001b[0;34m\u001b[0m\u001b[0m\n\u001b[1;32m    141\u001b[0m             \u001b[0mflags\u001b[0m \u001b[0;34m|=\u001b[0m \u001b[0mh5f\u001b[0m\u001b[0;34m.\u001b[0m\u001b[0mACC_SWMR_READ\u001b[0m\u001b[0;34m\u001b[0m\u001b[0m\n\u001b[0;32m--> 142\u001b[0;31m         \u001b[0mfid\u001b[0m \u001b[0;34m=\u001b[0m \u001b[0mh5f\u001b[0m\u001b[0;34m.\u001b[0m\u001b[0mopen\u001b[0m\u001b[0;34m(\u001b[0m\u001b[0mname\u001b[0m\u001b[0;34m,\u001b[0m \u001b[0mflags\u001b[0m\u001b[0;34m,\u001b[0m \u001b[0mfapl\u001b[0m\u001b[0;34m=\u001b[0m\u001b[0mfapl\u001b[0m\u001b[0;34m)\u001b[0m\u001b[0;34m\u001b[0m\u001b[0m\n\u001b[0m\u001b[1;32m    143\u001b[0m     \u001b[0;32melif\u001b[0m \u001b[0mmode\u001b[0m \u001b[0;34m==\u001b[0m \u001b[0;34m'r+'\u001b[0m\u001b[0;34m:\u001b[0m\u001b[0;34m\u001b[0m\u001b[0m\n\u001b[1;32m    144\u001b[0m         \u001b[0mfid\u001b[0m \u001b[0;34m=\u001b[0m \u001b[0mh5f\u001b[0m\u001b[0;34m.\u001b[0m\u001b[0mopen\u001b[0m\u001b[0;34m(\u001b[0m\u001b[0mname\u001b[0m\u001b[0;34m,\u001b[0m \u001b[0mh5f\u001b[0m\u001b[0;34m.\u001b[0m\u001b[0mACC_RDWR\u001b[0m\u001b[0;34m,\u001b[0m \u001b[0mfapl\u001b[0m\u001b[0;34m=\u001b[0m\u001b[0mfapl\u001b[0m\u001b[0;34m)\u001b[0m\u001b[0;34m\u001b[0m\u001b[0m\n",
      "\u001b[0;32mh5py/_objects.pyx\u001b[0m in \u001b[0;36mh5py._objects.with_phil.wrapper\u001b[0;34m()\u001b[0m\n",
      "\u001b[0;32mh5py/_objects.pyx\u001b[0m in \u001b[0;36mh5py._objects.with_phil.wrapper\u001b[0;34m()\u001b[0m\n",
      "\u001b[0;32mh5py/h5f.pyx\u001b[0m in \u001b[0;36mh5py.h5f.open\u001b[0;34m()\u001b[0m\n",
      "\u001b[0;31mIOError\u001b[0m: Unable to open file (unable to open file: name = '/Volumes/G-RAID/simulations/unprocessed/Illustris/Illustris-1/groups_135/fof_subhalo_tab_135.0.hdf5', errno = 2, error message = 'No such file or directory', flags = 0, o_flags = 0)"
     ]
    }
   ],
   "source": [
    "from illustris_python.snapshot import loadHalo, snapPath, loadSubhalo\n",
    "from illustris_python.groupcat import gcPath, loadHalos, loadSubhalos\n",
    "\n",
    "halo_positions = loadHalos(basePath, snapNum, fields=['GroupPos'])/1000.0"
   ]
  },
  {
   "cell_type": "code",
   "execution_count": 4,
   "metadata": {},
   "outputs": [
    {
     "ename": "IOError",
     "evalue": "Unable to open file (unable to open file: name = '/Volumes/G-RAID/simulations/unprocessed/Illustris/Illustris-1/groups_135/fof_subhalo_tab_135.0.hdf5', errno = 2, error message = 'No such file or directory', flags = 0, o_flags = 0)",
     "output_type": "error",
     "traceback": [
      "\u001b[0;31m---------------------------------------------------------------------------\u001b[0m",
      "\u001b[0;31mIOError\u001b[0m                                   Traceback (most recent call last)",
      "\u001b[0;32m<ipython-input-4-28ad07ac9609>\u001b[0m in \u001b[0;36m<module>\u001b[0;34m()\u001b[0m\n\u001b[1;32m      2\u001b[0m \u001b[0;34m\u001b[0m\u001b[0m\n\u001b[1;32m      3\u001b[0m \u001b[0;31m# load position\u001b[0m\u001b[0;34m\u001b[0m\u001b[0;34m\u001b[0m\u001b[0m\n\u001b[0;32m----> 4\u001b[0;31m \u001b[0mhalo_positions\u001b[0m \u001b[0;34m=\u001b[0m \u001b[0mloadHalos\u001b[0m\u001b[0;34m(\u001b[0m\u001b[0mbasePath\u001b[0m\u001b[0;34m,\u001b[0m \u001b[0msnapNum\u001b[0m\u001b[0;34m,\u001b[0m \u001b[0mfields\u001b[0m\u001b[0;34m=\u001b[0m\u001b[0;34m[\u001b[0m\u001b[0;34m'GroupPos'\u001b[0m\u001b[0;34m]\u001b[0m\u001b[0;34m)\u001b[0m\u001b[0;34m/\u001b[0m\u001b[0;36m1000.0\u001b[0m\u001b[0;34m\u001b[0m\u001b[0m\n\u001b[0m\u001b[1;32m      5\u001b[0m \u001b[0mhalo_position\u001b[0m \u001b[0;34m=\u001b[0m \u001b[0mhalo_positions\u001b[0m\u001b[0;34m[\u001b[0m\u001b[0mhalo_id\u001b[0m\u001b[0;34m]\u001b[0m\u001b[0;34m\u001b[0m\u001b[0m\n\u001b[1;32m      6\u001b[0m \u001b[0;34m\u001b[0m\u001b[0m\n",
      "\u001b[0;32m/Users/duncan/Code/illustris_python/groupcat.pyc\u001b[0m in \u001b[0;36mloadHalos\u001b[0;34m(basePath, snapNum, fields)\u001b[0m\n\u001b[1;32m    105\u001b[0m        (optionally restrict to a subset given by fields). \"\"\"\n\u001b[1;32m    106\u001b[0m \u001b[0;34m\u001b[0m\u001b[0m\n\u001b[0;32m--> 107\u001b[0;31m     \u001b[0;32mreturn\u001b[0m \u001b[0mloadObjects\u001b[0m\u001b[0;34m(\u001b[0m\u001b[0mbasePath\u001b[0m\u001b[0;34m,\u001b[0m \u001b[0msnapNum\u001b[0m\u001b[0;34m,\u001b[0m \u001b[0;34m\"Group\"\u001b[0m\u001b[0;34m,\u001b[0m \u001b[0;34m\"groups\"\u001b[0m\u001b[0;34m,\u001b[0m \u001b[0mfields\u001b[0m\u001b[0;34m)\u001b[0m\u001b[0;34m\u001b[0m\u001b[0m\n\u001b[0m\u001b[1;32m    108\u001b[0m \u001b[0;34m\u001b[0m\u001b[0m\n\u001b[1;32m    109\u001b[0m \u001b[0;34m\u001b[0m\u001b[0m\n",
      "\u001b[0;32m/Users/duncan/Code/illustris_python/groupcat.pyc\u001b[0m in \u001b[0;36mloadObjects\u001b[0;34m(basePath, snapNum, gName, nName, fields)\u001b[0m\n\u001b[1;32m     36\u001b[0m \u001b[0;34m\u001b[0m\u001b[0m\n\u001b[1;32m     37\u001b[0m     \u001b[0;31m# load header from first chunk\u001b[0m\u001b[0;34m\u001b[0m\u001b[0;34m\u001b[0m\u001b[0m\n\u001b[0;32m---> 38\u001b[0;31m     \u001b[0;32mwith\u001b[0m \u001b[0mh5py\u001b[0m\u001b[0;34m.\u001b[0m\u001b[0mFile\u001b[0m\u001b[0;34m(\u001b[0m\u001b[0mgcPath\u001b[0m\u001b[0;34m(\u001b[0m\u001b[0mbasePath\u001b[0m\u001b[0;34m,\u001b[0m \u001b[0msnapNum\u001b[0m\u001b[0;34m)\u001b[0m\u001b[0;34m,\u001b[0m \u001b[0;34m'r'\u001b[0m\u001b[0;34m)\u001b[0m \u001b[0;32mas\u001b[0m \u001b[0mf\u001b[0m\u001b[0;34m:\u001b[0m\u001b[0;34m\u001b[0m\u001b[0m\n\u001b[0m\u001b[1;32m     39\u001b[0m \u001b[0;34m\u001b[0m\u001b[0m\n\u001b[1;32m     40\u001b[0m         \u001b[0mheader\u001b[0m \u001b[0;34m=\u001b[0m \u001b[0mdict\u001b[0m\u001b[0;34m(\u001b[0m\u001b[0mf\u001b[0m\u001b[0;34m[\u001b[0m\u001b[0;34m'Header'\u001b[0m\u001b[0;34m]\u001b[0m\u001b[0;34m.\u001b[0m\u001b[0mattrs\u001b[0m\u001b[0;34m.\u001b[0m\u001b[0mitems\u001b[0m\u001b[0;34m(\u001b[0m\u001b[0;34m)\u001b[0m\u001b[0;34m)\u001b[0m\u001b[0;34m\u001b[0m\u001b[0m\n",
      "\u001b[0;32m/Users/duncan/anaconda2/lib/python2.7/site-packages/h5py/_hl/files.pyc\u001b[0m in \u001b[0;36m__init__\u001b[0;34m(self, name, mode, driver, libver, userblock_size, swmr, **kwds)\u001b[0m\n\u001b[1;32m    310\u001b[0m             \u001b[0;32mwith\u001b[0m \u001b[0mphil\u001b[0m\u001b[0;34m:\u001b[0m\u001b[0;34m\u001b[0m\u001b[0m\n\u001b[1;32m    311\u001b[0m                 \u001b[0mfapl\u001b[0m \u001b[0;34m=\u001b[0m \u001b[0mmake_fapl\u001b[0m\u001b[0;34m(\u001b[0m\u001b[0mdriver\u001b[0m\u001b[0;34m,\u001b[0m \u001b[0mlibver\u001b[0m\u001b[0;34m,\u001b[0m \u001b[0;34m**\u001b[0m\u001b[0mkwds\u001b[0m\u001b[0;34m)\u001b[0m\u001b[0;34m\u001b[0m\u001b[0m\n\u001b[0;32m--> 312\u001b[0;31m                 \u001b[0mfid\u001b[0m \u001b[0;34m=\u001b[0m \u001b[0mmake_fid\u001b[0m\u001b[0;34m(\u001b[0m\u001b[0mname\u001b[0m\u001b[0;34m,\u001b[0m \u001b[0mmode\u001b[0m\u001b[0;34m,\u001b[0m \u001b[0muserblock_size\u001b[0m\u001b[0;34m,\u001b[0m \u001b[0mfapl\u001b[0m\u001b[0;34m,\u001b[0m \u001b[0mswmr\u001b[0m\u001b[0;34m=\u001b[0m\u001b[0mswmr\u001b[0m\u001b[0;34m)\u001b[0m\u001b[0;34m\u001b[0m\u001b[0m\n\u001b[0m\u001b[1;32m    313\u001b[0m \u001b[0;34m\u001b[0m\u001b[0m\n\u001b[1;32m    314\u001b[0m                 \u001b[0;32mif\u001b[0m \u001b[0mswmr_support\u001b[0m\u001b[0;34m:\u001b[0m\u001b[0;34m\u001b[0m\u001b[0m\n",
      "\u001b[0;32m/Users/duncan/anaconda2/lib/python2.7/site-packages/h5py/_hl/files.pyc\u001b[0m in \u001b[0;36mmake_fid\u001b[0;34m(name, mode, userblock_size, fapl, fcpl, swmr)\u001b[0m\n\u001b[1;32m    140\u001b[0m         \u001b[0;32mif\u001b[0m \u001b[0mswmr\u001b[0m \u001b[0;32mand\u001b[0m \u001b[0mswmr_support\u001b[0m\u001b[0;34m:\u001b[0m\u001b[0;34m\u001b[0m\u001b[0m\n\u001b[1;32m    141\u001b[0m             \u001b[0mflags\u001b[0m \u001b[0;34m|=\u001b[0m \u001b[0mh5f\u001b[0m\u001b[0;34m.\u001b[0m\u001b[0mACC_SWMR_READ\u001b[0m\u001b[0;34m\u001b[0m\u001b[0m\n\u001b[0;32m--> 142\u001b[0;31m         \u001b[0mfid\u001b[0m \u001b[0;34m=\u001b[0m \u001b[0mh5f\u001b[0m\u001b[0;34m.\u001b[0m\u001b[0mopen\u001b[0m\u001b[0;34m(\u001b[0m\u001b[0mname\u001b[0m\u001b[0;34m,\u001b[0m \u001b[0mflags\u001b[0m\u001b[0;34m,\u001b[0m \u001b[0mfapl\u001b[0m\u001b[0;34m=\u001b[0m\u001b[0mfapl\u001b[0m\u001b[0;34m)\u001b[0m\u001b[0;34m\u001b[0m\u001b[0m\n\u001b[0m\u001b[1;32m    143\u001b[0m     \u001b[0;32melif\u001b[0m \u001b[0mmode\u001b[0m \u001b[0;34m==\u001b[0m \u001b[0;34m'r+'\u001b[0m\u001b[0;34m:\u001b[0m\u001b[0;34m\u001b[0m\u001b[0m\n\u001b[1;32m    144\u001b[0m         \u001b[0mfid\u001b[0m \u001b[0;34m=\u001b[0m \u001b[0mh5f\u001b[0m\u001b[0;34m.\u001b[0m\u001b[0mopen\u001b[0m\u001b[0;34m(\u001b[0m\u001b[0mname\u001b[0m\u001b[0;34m,\u001b[0m \u001b[0mh5f\u001b[0m\u001b[0;34m.\u001b[0m\u001b[0mACC_RDWR\u001b[0m\u001b[0;34m,\u001b[0m \u001b[0mfapl\u001b[0m\u001b[0;34m=\u001b[0m\u001b[0mfapl\u001b[0m\u001b[0;34m)\u001b[0m\u001b[0;34m\u001b[0m\u001b[0m\n",
      "\u001b[0;32mh5py/_objects.pyx\u001b[0m in \u001b[0;36mh5py._objects.with_phil.wrapper\u001b[0;34m()\u001b[0m\n",
      "\u001b[0;32mh5py/_objects.pyx\u001b[0m in \u001b[0;36mh5py._objects.with_phil.wrapper\u001b[0;34m()\u001b[0m\n",
      "\u001b[0;32mh5py/h5f.pyx\u001b[0m in \u001b[0;36mh5py.h5f.open\u001b[0;34m()\u001b[0m\n",
      "\u001b[0;31mIOError\u001b[0m: Unable to open file (unable to open file: name = '/Volumes/G-RAID/simulations/unprocessed/Illustris/Illustris-1/groups_135/fof_subhalo_tab_135.0.hdf5', errno = 2, error message = 'No such file or directory', flags = 0, o_flags = 0)"
     ]
    }
   ],
   "source": [
    "halo_id = 0\n",
    "\n",
    "# load position\n",
    "halo_positions = loadHalos(basePath, snapNum, fields=['GroupPos'])/1000.0\n",
    "halo_position = halo_positions[halo_id]\n",
    "\n",
    "# load particles\n",
    "ptcl_coords = loadHalo(basePath, snapNum, gal_id, 1, fields=['Coordinates'])/1000.0\n",
    "\n",
    "# load halo size\n",
    "halo_sizes = loadHalos(basePath, snapNum, fields=['Group_R_Mean200'])/1000.0\n",
    "halo_size = halo_sizes[halo_id]\n",
    "\n",
    "# account for PBCs\n",
    "dx = ptcl_coords[:,0] - halo_position[0]\n",
    "dy = ptcl_coords[:,1] - halo_position[1]\n",
    "dz = ptcl_coords[:,2] - halo_position[2]\n",
    "\n",
    "mask = (dx > Lbox[0]/2.0)\n",
    "dx[mask] = dx[mask] - Lbox[0]\n",
    "mask = (dx < -Lbox[0]/2.0)\n",
    "dx[mask] = dx[mask] + Lbox[0]\n",
    "\n",
    "mask = (dy > Lbox[1]/2.0)\n",
    "dy[mask] = dy[mask] - Lbox[1]\n",
    "mask = (dy < -Lbox[1]/2.0)\n",
    "dy[mask] = dy[mask] + Lbox[1]\n",
    "\n",
    "mask = (dz > Lbox[2]/2.0)\n",
    "dz[mask] = dz[mask] - Lbox[2]\n",
    "mask = (dz < -Lbox[2]/2.0)\n",
    "dz[mask] = dz[mask] + Lbox[2]\n",
    "\n",
    "ptcl_coords = np.vstack((dx,dy,dz)).T\n",
    "\n",
    "I = reduced_inertia_tensors(ptcl_coords)\n",
    "\n",
    "evals, evecs = np.linalg.eigh(I)\n",
    "evals = np.sqrt(evals)\n",
    "\n",
    "plt.figure()\n",
    "plt.plot(ptcl_coords[mask,0], ptcl_coords[mask,1], '.', ms=1, alpha=0.2)\n",
    "plt.xlim([-2*halo_size, 2*halo_size])\n",
    "plt.ylim([-2*halo_size, 2*halo_size])\n",
    "plt.show()\n",
    "\n",
    "plt.figure()\n",
    "plt.plot(ptcl_coords[mask,1], ptcl_coords[mask,2], '.', ms=1, alpha=0.2)\n",
    "plt.xlim([-2*halo_size, 2*halo_size])\n",
    "plt.ylim([-2*halo_size, 2*halo_size])\n",
    "plt.show()\n",
    "\n",
    "plt.figure()\n",
    "plt.plot(ptcl_coords[:,0], ptcl_coords[:,1], '.', ms=1, alpha=0.2)\n",
    "plt.xlim([-2*halo_size, 2*halo_size])\n",
    "plt.ylim([-2*halo_size, 2*halo_size])\n",
    "plt.show()\n",
    "\n",
    "plt.figure()\n",
    "plt.plot(ptcl_coords[:,1], ptcl_coords[:,2], '.', ms=1, alpha=0.2)\n",
    "plt.xlim([-2*halo_size, 2*halo_size])\n",
    "plt.ylim([-2*halo_size, 2*halo_size])\n",
    "plt.show()"
   ]
  },
  {
   "cell_type": "markdown",
   "metadata": {},
   "source": [
    "## measured halo shapes"
   ]
  },
  {
   "cell_type": "code",
   "execution_count": 9,
   "metadata": {},
   "outputs": [],
   "source": [
    "from astropy.table import Table\n",
    "t_1 = Table.read('../data/halo_shapes_1.dat', format='ascii')\n",
    "\n",
    "q = t_1['b']/t_1['a']\n",
    "s = t_1['c']/t_1['a']"
   ]
  },
  {
   "cell_type": "code",
   "execution_count": 13,
   "metadata": {},
   "outputs": [
    {
     "data": {
      "image/png": "[encoded data removed]",
      "text/plain": [
       "<Figure size 237.6x237.6 with 1 Axes>"
      ]
     },
     "metadata": {},
     "output_type": "display_data"
    }
   ],
   "source": [
    "plt.figure(figsize=(3.3,3.3))\n",
    "plt.plot(q, s, '.', ms=1)\n",
    "plt.xlim([0,1])\n",
    "plt.ylim([0,1])\n",
    "plt.plot([0,1], [0,1], '--')\n",
    "plt.xlabel(r'$b/a$')\n",
    "plt.ylabel(r'$c/a$')\n",
    "plt.show()"
   ]
  },
  {
   "cell_type": "markdown",
   "metadata": {},
   "source": [
    "## galaxy-halo shape correlations"
   ]
  },
  {
   "cell_type": "code",
   "execution_count": 15,
   "metadata": {},
   "outputs": [],
   "source": [
    "from astropy.table import Table\n",
    "t_1 = Table.read('../data/galaxy_shapes_1.dat', format='ascii')\n",
    "t_2 = Table.read('../data/halo_shapes_1.dat', format='ascii')"
   ]
  },
  {
   "cell_type": "code",
   "execution_count": 17,
   "metadata": {},
   "outputs": [
    {
     "data": {
      "text/html": [
       "&lt;Table length=18245&gt;\n",
       "<table id=\"table4821934800\" class=\"table-striped table-bordered table-condensed\">\n",
       "<thead><tr><th>halo_id</th><th>a</th><th>b</th><th>c</th><th>av_x</th><th>av_y</th><th>av_z</th><th>bv_x</th><th>bv_y</th><th>bv_z</th><th>cv_x</th><th>cv_y</th><th>cv_z</th></tr></thead>\n",
       "<thead><tr><th>int64</th><th>float64</th><th>float64</th><th>float64</th><th>float64</th><th>float64</th><th>float64</th><th>float64</th><th>float64</th><th>float64</th><th>float64</th><th>float64</th><th>float64</th></tr></thead>\n",
       "<tr><td>0</td><td>0.7362815072845351</td><td>0.5431545276840021</td><td>0.40357490145833647</td><td>-0.2608451210809999</td><td>0.1120254752318865</td><td>0.9588587569122519</td><td>-0.12246572187805509</td><td>0.9813798803240894</td><td>-0.1479718806394085</td><td>0.9575813123558361</td><td>0.15602507296632334</td><td>0.24226887301658911</td></tr>\n",
       "<tr><td>1</td><td>0.7489652596542596</td><td>0.5080370197525045</td><td>0.4253815068757924</td><td>0.9671085820008156</td><td>-0.25424103078308014</td><td>0.007904991254173675</td><td>0.07502575383569364</td><td>0.2554202704166018</td><td>-0.9639147377863333</td><td>-0.2430475815180179</td><td>-0.9328032931581377</td><td>-0.266093760527329</td></tr>\n",
       "<tr><td>2</td><td>0.6936492253282607</td><td>0.5406612705609529</td><td>0.47595813126474756</td><td>-0.18943385942674038</td><td>0.9779420396554978</td><td>-0.0880010225914145</td><td>0.8966395036153912</td><td>0.20881789131810533</td><td>0.390426291150845</td><td>0.40019047147456477</td><td>-0.004945234059639962</td><td>-0.9164186440710711</td></tr>\n",
       "<tr><td>3</td><td>0.7244355697432237</td><td>0.562522559840466</td><td>0.3984488360645907</td><td>0.9607661062986509</td><td>-0.05654544231151739</td><td>0.2715347159048437</td><td>-0.1413068225943248</td><td>0.7426247737490369</td><td>0.6546302981855391</td><td>0.23866476672526535</td><td>0.6673163105814114</td><td>-0.7054984555305474</td></tr>\n",
       "<tr><td>4</td><td>0.7060484200337883</td><td>0.539124927031978</td><td>0.4591731063775284</td><td>0.9031094900482346</td><td>0.3592102537739692</td><td>0.2352896992400172</td><td>-0.39500646882351337</td><td>0.9098409403654723</td><td>0.12711944313302875</td><td>0.16841359378742554</td><td>0.207743728710431</td><td>-0.9635763615869222</td></tr>\n",
       "<tr><td>5</td><td>0.7264938601074133</td><td>0.5313894754299114</td><td>0.4356970238923945</td><td>0.7456708523603071</td><td>-0.40799885272055914</td><td>-0.5267939978008109</td><td>0.6490418277737198</td><td>0.6236021969446152</td><td>0.4357350178330848</td><td>-0.15073050699975155</td><td>0.6668262413436932</td><td>-0.7298103028287835</td></tr>\n",
       "<tr><td>6</td><td>0.7049729654446526</td><td>0.5531536904231652</td><td>0.4438852472917543</td><td>0.5826323027692111</td><td>0.39467367065356296</td><td>-0.7104732883526936</td><td>0.41592461816466614</td><td>-0.8958225233039766</td><td>-0.15655260695968354</td><td>-0.6982451659513466</td><td>-0.2042907252768452</td><td>-0.6860896353913515</td></tr>\n",
       "<tr><td>7</td><td>0.8976047531440969</td><td>0.32707279008321677</td><td>0.2955149693676682</td><td>-0.12607190001159763</td><td>0.9852446891840116</td><td>-0.11575309266782254</td><td>-0.9903712438431408</td><td>-0.13172928608099502</td><td>-0.04256987851968902</td><td>0.05718981898953166</td><td>-0.10927166889588165</td><td>-0.992365369700421</td></tr>\n",
       "<tr><td>8</td><td>0.6250883425606885</td><td>0.5707073527596724</td><td>0.5325013441305092</td><td>-0.6048158433091557</td><td>0.21807843427601703</td><td>-0.7659240120181346</td><td>0.38741170458175456</td><td>0.9208692540991888</td><td>-0.04372628509103801</td><td>0.6957801138544377</td><td>-0.32317427706815455</td><td>-0.641442452450866</td></tr>\n",
       "<tr><td>9</td><td>0.6987487131858438</td><td>0.5230122651129573</td><td>0.48806598566439846</td><td>0.5858007066262493</td><td>0.5937316320019997</td><td>0.5516523191979065</td><td>-0.45398677719576347</td><td>-0.32346004586661303</td><td>0.8302226236735379</td><td>-0.6713669177488502</td><td>0.7367878581302834</td><td>-0.08006318669774797</td></tr>\n",
       "<tr><td>...</td><td>...</td><td>...</td><td>...</td><td>...</td><td>...</td><td>...</td><td>...</td><td>...</td><td>...</td><td>...</td><td>...</td><td>...</td></tr>\n",
       "<tr><td>55565</td><td>0.6152779290231379</td><td>0.5620563822357691</td><td>0.5527437862563775</td><td>0.8204350700693263</td><td>0.3396578795218888</td><td>0.45991175314296295</td><td>-0.48573472134095946</td><td>0.8383853865683216</td><td>0.24732918160319448</td><td>0.30157598757885234</td><td>0.42631264169313526</td><td>-0.8528243988351061</td></tr>\n",
       "<tr><td>58743</td><td>0.6373825958952694</td><td>0.5492872431978296</td><td>0.5403951803170873</td><td>0.24749710503497124</td><td>-0.7351618654514089</td><td>-0.6310960422830371</td><td>0.7541597022956363</td><td>-0.2627496788887562</td><td>0.6018353177383435</td><td>0.6082666573408948</td><td>0.6248997022161715</td><td>-0.4893996687141039</td></tr>\n",
       "<tr><td>62799</td><td>0.5877712466531778</td><td>0.5810140100182942</td><td>0.5629810669731533</td><td>-0.5123103079276758</td><td>0.713872530383562</td><td>0.4774140328423746</td><td>0.5132987922424839</td><td>-0.19115516964051238</td><td>0.8366504951305022</td><td>-0.6885219664422171</td><td>-0.6736807192457542</td><td>0.26849914384047013</td></tr>\n",
       "<tr><td>63069</td><td>0.5924213446787963</td><td>0.5783563514397011</td><td>0.5608394432619063</td><td>0.43624473990991575</td><td>0.891208783083398</td><td>-0.1242474621710183</td><td>0.05294866601321804</td><td>-0.1632639607101467</td><td>-0.9851605543771312</td><td>0.8982688715904333</td><td>-0.423192372436277</td><td>0.11841136028019006</td></tr>\n",
       "<tr><td>64771</td><td>0.5877418395236009</td><td>0.5772626608652723</td><td>0.5668574339674487</td><td>0.9955817518832167</td><td>-0.07911267438878393</td><td>0.050578256871895044</td><td>0.07201809662098978</td><td>0.9889831155744212</td><td>0.12932822919920361</td><td>0.06025254414740475</td><td>0.1251142752037759</td><td>-0.9903110870145798</td></tr>\n",
       "<tr><td>64901</td><td>0.5878832762655606</td><td>0.5829563870435868</td><td>0.5608521233733156</td><td>0.8175570306237657</td><td>0.354714430232029</td><td>-0.45362779308902396</td><td>-0.4412368315188395</td><td>-0.12029654601230358</td><td>-0.889291178146239</td><td>-0.37001427025030637</td><td>0.9272035450766335</td><td>0.05816378433747677</td></tr>\n",
       "<tr><td>66880</td><td>0.6200186021489987</td><td>0.5731522508971559</td><td>0.5357923387663598</td><td>-0.12360297797834871</td><td>-0.2859666309033835</td><td>0.950234386793412</td><td>-0.9107213148607782</td><td>-0.3476002330977258</td><td>-0.22307120972609157</td><td>0.39409261664377704</td><td>-0.8929709759897991</td><td>-0.2174714821457893</td></tr>\n",
       "<tr><td>67521</td><td>0.6020357678538212</td><td>0.5793604819824255</td><td>0.5494491479124822</td><td>0.23986686039870764</td><td>0.9306124762844457</td><td>-0.27644946783489976</td><td>0.9207674603081327</td><td>-0.30832738891269307</td><td>-0.23900105707714517</td><td>-0.30765430814500033</td><td>-0.19721724120880835</td><td>-0.9308352090729097</td></tr>\n",
       "<tr><td>69119</td><td>0.5919294711838524</td><td>0.5805099248715565</td><td>0.5591312263410301</td><td>0.17388871107606627</td><td>-0.05602408419362911</td><td>0.98317039120926</td><td>0.5094121167633746</td><td>0.8595397593926745</td><td>-0.04111808990993347</td><td>0.8427704381710138</td><td>-0.5079888817813323</td><td>-0.17800360819823036</td></tr>\n",
       "<tr><td>74370</td><td>0.5847083779860375</td><td>0.5794785996701387</td><td>0.567732917169043</td><td>0.7510913040440411</td><td>0.6369438296751012</td><td>0.17367904544946644</td><td>0.2735528396385404</td><td>-0.5396778492934364</td><td>0.7961888362114244</td><td>-0.6008583001965715</td><td>0.5505001151869335</td><td>0.579585132887361</td></tr>\n",
       "</table>"
      ],
      "text/plain": [
       "<Table length=18245>\n",
       "halo_id         a          ...          cv_y                 cv_z        \n",
       " int64       float64       ...        float64              float64       \n",
       "------- ------------------ ... --------------------- --------------------\n",
       "      0 0.7362815072845351 ...   0.15602507296632334  0.24226887301658911\n",
       "      1 0.7489652596542596 ...   -0.9328032931581377   -0.266093760527329\n",
       "      2 0.6936492253282607 ... -0.004945234059639962  -0.9164186440710711\n",
       "      3 0.7244355697432237 ...    0.6673163105814114  -0.7054984555305474\n",
       "      4 0.7060484200337883 ...     0.207743728710431  -0.9635763615869222\n",
       "      5 0.7264938601074133 ...    0.6668262413436932  -0.7298103028287835\n",
       "      6 0.7049729654446526 ...   -0.2042907252768452  -0.6860896353913515\n",
       "      7 0.8976047531440969 ...  -0.10927166889588165   -0.992365369700421\n",
       "      8 0.6250883425606885 ...  -0.32317427706815455   -0.641442452450866\n",
       "      9 0.6987487131858438 ...    0.7367878581302834 -0.08006318669774797\n",
       "    ...                ... ...                   ...                  ...\n",
       "  55565 0.6152779290231379 ...   0.42631264169313526  -0.8528243988351061\n",
       "  58743 0.6373825958952694 ...    0.6248997022161715  -0.4893996687141039\n",
       "  62799 0.5877712466531778 ...   -0.6736807192457542  0.26849914384047013\n",
       "  63069 0.5924213446787963 ...    -0.423192372436277  0.11841136028019006\n",
       "  64771 0.5877418395236009 ...    0.1251142752037759  -0.9903110870145798\n",
       "  64901 0.5878832762655606 ...    0.9272035450766335  0.05816378433747677\n",
       "  66880 0.6200186021489987 ...   -0.8929709759897991  -0.2174714821457893\n",
       "  67521 0.6020357678538212 ...  -0.19721724120880835  -0.9308352090729097\n",
       "  69119 0.5919294711838524 ...   -0.5079888817813323 -0.17800360819823036\n",
       "  74370 0.5847083779860375 ...    0.5505001151869335    0.579585132887361"
      ]
     },
     "execution_count": 17,
     "metadata": {},
     "output_type": "execute_result"
    }
   ],
   "source": [
    "t_2"
   ]
  },
  {
   "cell_type": "code",
   "execution_count": null,
   "metadata": {},
   "outputs": [],
   "source": []
  }
 ],
 "metadata": {
  "kernelspec": {
   "display_name": "Python 2",
   "language": "python",
   "name": "python2"
  },
  "language_info": {
   "codemirror_mode": {
    "name": "ipython",
    "version": 2
   },
   "file_extension": ".py",
   "mimetype": "text/x-python",
   "name": "python",
   "nbconvert_exporter": "python",
   "pygments_lexer": "ipython2",
   "version": "2.7.15"
  }
 },
 "nbformat": 4,
 "nbformat_minor": 2
}
