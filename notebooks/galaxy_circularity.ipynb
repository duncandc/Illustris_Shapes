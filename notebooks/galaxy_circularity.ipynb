{
 "cells": [
  {
   "cell_type": "code",
   "execution_count": 1,
   "metadata": {},
   "outputs": [],
   "source": [
    "import numpy as np\n",
    "import matplotlib.pyplot as plt\n",
    "from __future__ import print_function, division\n",
    "%matplotlib inline"
   ]
  },
  {
   "cell_type": "markdown",
   "metadata": {},
   "source": [
    "# Galaxy Circularity"
   ]
  },
  {
   "cell_type": "markdown",
   "metadata": {},
   "source": [
    "Here I calculate the circularity for stellar particles in Illustris Galaxies.  Circularity is defined as:\n",
    "\n",
    "$\\epsilon = \\frac{j_z}{j_{\\rm circ}}$\n",
    "\n",
    "where,\n",
    " \n",
    "$j_{\\rm circ} = r\\sqrt{\\frac{GM(<r)}{r}}$\n",
    "\n",
    "and $j_z$ is the component of the angular momentum aligned with the $\\vec{L}_{\\rm gal}$, the collective specific angular monenutm of star particles in the galaxy.   "
   ]
  },
  {
   "cell_type": "markdown",
   "metadata": {},
   "source": [
    "## Choose Galaxy"
   ]
  },
  {
   "cell_type": "code",
   "execution_count": 2,
   "metadata": {},
   "outputs": [],
   "source": [
    "# specify simulation\n",
    "simname = 'Illustris-1'\n",
    "snapNum = 135\n",
    "\n",
    "# load simulation information\n",
    "from Illustris_Shapes.simulation_props import sim_prop_dict\n",
    "d = sim_prop_dict[simname]\n",
    "basePath = d['basePath']\n",
    "Lbox = d['Lbox']"
   ]
  },
  {
   "cell_type": "code",
   "execution_count": 3,
   "metadata": {},
   "outputs": [],
   "source": [
    "# load shape catalog\n",
    "from astropy.table import Table\n",
    "fname = simname + '_' + str(snapNum) + '_' + 'reduced' + '_' +'galaxy_shapes'+ '.dat' \n",
    "t_1 = Table.read('../data/shape_catalogs/'+fname, format='ascii')\n",
    "t_1['gal_id']\n",
    "\n",
    "# choose a galaxy\n",
    "i = 3\n",
    "gal_id = t_1['gal_id'][i]"
   ]
  },
  {
   "cell_type": "markdown",
   "metadata": {},
   "source": [
    "## Calculate Circularity"
   ]
  },
  {
   "cell_type": "code",
   "execution_count": 4,
   "metadata": {},
   "outputs": [],
   "source": [
    "from Illustris_Shapes.calculate_galaxy_circularity import format_velocities, galaxy_selection, galaxy_center\n",
    "from Illustris_Shapes.calculate_galaxy_circularity import particle_selection, format_particles\n",
    "from Illustris_Shapes.calculate_galaxy_circularity import specific_angular_momentum, circularity\n",
    "\n",
    "from illustris_python.snapshot import loadHalo, snapPath, loadSubhalo\n",
    "from illustris_python.groupcat import gcPath, loadHalos, loadSubhalos, loadHeader"
   ]
  },
  {
   "cell_type": "code",
   "execution_count": 6,
   "metadata": {},
   "outputs": [],
   "source": [
    "# load galaxy table\n",
    "fields = ['SubhaloGrNr', 'SubhaloMassInRadType', 'SubhaloPos', 'SubhaloHalfmassRadType']\n",
    "galaxy_table = loadSubhalos(basePath, snapNum, fields=fields)"
   ]
  },
  {
   "cell_type": "code",
   "execution_count": 9,
   "metadata": {},
   "outputs": [],
   "source": [
    "# choose a 'center' for each galaxy\n",
    "gal_position = galaxy_center(gal_id, galaxy_table)\n",
    "\n",
    "# load stellar particle positions and masses\n",
    "ptcl_coords = loadSubhalo(basePath, snapNum, gal_id, 4, fields=['Coordinates'])/1000.0\n",
    "ptcl_vels = loadSubhalo(basePath, snapNum, gal_id, 4, fields=['Velocities'])\n",
    "ptcl_masses = loadSubhalo(basePath, snapNum, gal_id, 4, fields=['Masses'])*10.0**10\n",
    "\n",
    "# center and account for PBCs\n",
    "ptcl_coords = format_particles(gal_position, ptcl_coords, Lbox)\n",
    "\n",
    "# use center of mass velocity to subtract bulk velocity\n",
    "ptcl_vels = format_velocities(ptcl_vels, ptcl_masses, basePath, snapNum)\n",
    "\n",
    "ptcl_mask = particle_selection(gal_id, ptcl_coords, galaxy_table, basePath, snapNum, radial_mask=True, num_r_half=2)\n",
    "\n",
    "# specific angular momentum of the system\n",
    "L = specific_angular_momentum(ptcl_coords[ptcl_mask], ptcl_vels[ptcl_mask], ptcl_masses[ptcl_mask])\n",
    "\n",
    "# try using a random spin axis\n",
    "#from rotations.mcrotations import random_unit_vectors_3d\n",
    "#L = random_unit_vectors_3d(1)[0]\n",
    "\n",
    "epsilon = circularity(ptcl_coords[ptcl_mask], ptcl_vels[ptcl_mask], ptcl_masses[ptcl_mask], L)"
   ]
  },
  {
   "cell_type": "markdown",
   "metadata": {},
   "source": [
    "## plot circularity"
   ]
  },
  {
   "cell_type": "code",
   "execution_count": 10,
   "metadata": {},
   "outputs": [
    {
     "data": {
      "image/png": "[encoded data removed]",
      "text/plain": [
       "<Figure size 237.6x237.6 with 1 Axes>"
      ]
     },
     "metadata": {
      "needs_background": "light"
     },
     "output_type": "display_data"
    }
   ],
   "source": [
    "e_thresh = 0.7\n",
    "\n",
    "bins = np.linspace(-5,5,100)\n",
    "counts = np.histogram(epsilon, bins=bins, weights=ptcl_masses[ptcl_mask])[0]\n",
    "counts = 1.0*counts/np.sum(ptcl_masses)/np.diff(bins)\n",
    "    \n",
    "fig = plt.figure(figsize=(3.3,3.3))\n",
    "fig.subplots_adjust(left=0.2, right=0.9, bottom=0.2, top=0.9)\n",
    "plt.title('galaxy ID = ' + str(gal_id))\n",
    "plt.step(bins[:-1], counts, color='black', where='post')\n",
    "plt.plot([e_thresh,e_thresh], [0,1.2*np.max(counts)], '-', color='red')\n",
    "plt.ylim([0,1.2*np.max(counts)])\n",
    "plt.ylabel(r'${\\mathrm d}P/{\\mathrm d}\\epsilon$')\n",
    "plt.xlabel(r'$\\epsilon$')\n",
    "plt.text(2,np.max(counts),'disk stars')\n",
    "plt.text(-4,np.max(counts),'bulge stars')\n",
    "plt.show()"
   ]
  },
  {
   "cell_type": "code",
   "execution_count": 11,
   "metadata": {},
   "outputs": [
    {
     "name": "stdout",
     "output_type": "stream",
     "text": [
      "fraction of stellar mass in disk:  0.5560065\n"
     ]
    }
   ],
   "source": [
    "mask = (epsilon>=0.7)\n",
    "\n",
    "f_disk = np.sum(ptcl_masses[ptcl_mask][mask])/np.sum(ptcl_masses[ptcl_mask])\n",
    "print(\"fraction of stellar mass in disk: \", f_disk)"
   ]
  },
  {
   "cell_type": "code",
   "execution_count": null,
   "metadata": {},
   "outputs": [],
   "source": []
  }
 ],
 "metadata": {
  "kernelspec": {
   "display_name": "Python 2",
   "language": "python",
   "name": "python2"
  },
  "language_info": {
   "codemirror_mode": {
    "name": "ipython",
    "version": 2
   },
   "file_extension": ".py",
   "mimetype": "text/x-python",
   "name": "python",
   "nbconvert_exporter": "python",
   "pygments_lexer": "ipython2",
   "version": "2.7.16"
  }
 },
 "nbformat": 4,
 "nbformat_minor": 2
}
