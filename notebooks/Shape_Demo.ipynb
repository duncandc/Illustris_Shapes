{
 "cells": [
  {
   "cell_type": "code",
   "execution_count": 42,
   "metadata": {},
   "outputs": [],
   "source": [
    "import numpy as np\n",
    "import matplotlib.pyplot as plt\n",
    "from __future__ import print_function, division\n",
    "%matplotlib inline"
   ]
  },
  {
   "cell_type": "markdown",
   "metadata": {},
   "source": [
    "# Galaxy Shape Demo"
   ]
  },
  {
   "cell_type": "code",
   "execution_count": 43,
   "metadata": {},
   "outputs": [],
   "source": [
    "simname = 'Illustris-1'\n",
    "snapNum = 99\n",
    "\n",
    "from Illustris_Shapes.simulation_props import sim_prop_dict\n",
    "d = sim_prop_dict[simname]\n",
    "basePath = d['basePath']\n",
    "Lbox = d['Lbox']\n",
    "\n",
    "from astropy.table import Table\n",
    "fname = simname + '_' + str(snapNum) + '_' + 'reduced' + '_' +'galaxy_shapes'+ '.dat' \n",
    "t_1 = Table.read('../data/shape_catalogs/'+fname, format='ascii')"
   ]
  },
  {
   "cell_type": "markdown",
   "metadata": {},
   "source": [
    "## Example Galaxy"
   ]
  },
  {
   "cell_type": "code",
   "execution_count": 238,
   "metadata": {},
   "outputs": [],
   "source": [
    "i = 3\n",
    "gal_id = t_1['gal_id'][i]"
   ]
  },
  {
   "cell_type": "markdown",
   "metadata": {},
   "source": [
    "## load galaxy particles"
   ]
  },
  {
   "cell_type": "code",
   "execution_count": 239,
   "metadata": {},
   "outputs": [],
   "source": [
    "# choose a 'center' for each galaxy\n",
    "gal_position = galaxy_center(gal_id, basePath, snapNum)\n",
    "\n",
    "# load stellar particle positions and masses\n",
    "ptcl_coords = loadSubhalo(basePath, snapNum, gal_id, 4, fields=['Coordinates'])/1000.0\n",
    "ptcl_masses = loadSubhalo(basePath, snapNum, gal_id, 4, fields=['Masses'])*10.0**10\n",
    "\n",
    "# center and account for PBCs\n",
    "ptcl_coords = format_particles(gal_position, ptcl_coords, Lbox)\n",
    "\n",
    "ptcl_mask = particle_selection(gal_id, ptcl_coords, basePath, snapNum, radial_mask=True)\n",
    "\n",
    "ptcl_coords = ptcl_coords[ptcl_mask]\n",
    "ptcl_masses = ptcl_masses[ptcl_mask]\n",
    "\n",
    "# get the half mass radius\n",
    "gal_rhalfs = loadSubhalos(basePath, snapNum, fields=['SubhaloHalfmassRadType'])[:,4]/1000.09\n",
    "gal_rhalf = gal_rhalfs[gal_id]"
   ]
  },
  {
   "cell_type": "markdown",
   "metadata": {},
   "source": [
    "## recalculate I"
   ]
  },
  {
   "cell_type": "code",
   "execution_count": 240,
   "metadata": {},
   "outputs": [
    {
     "name": "stdout",
     "output_type": "stream",
     "text": [
      "[0.65122907 0.63981176 0.40808899]\n",
      "0.6512290650751824 0.6398117552802419 0.4080889906698137\n",
      "\n",
      "[0.78729935 0.45801625 0.41277216]\n",
      "[-0.90184676  0.12763842  0.41277216]\n",
      "\n",
      "[-0.54788971  0.82675589  0.12763842]\n",
      "[0.32664326 0.82675589 0.45801625]\n",
      "\n",
      "[ 0.28280134  0.32664326 -0.90184676]\n",
      "[ 0.28280134 -0.54788971  0.78729935]\n"
     ]
    }
   ],
   "source": [
    "from inertia_tensors import reduced_inertia_tensors, inertia_tensors\n",
    "I = reduced_inertia_tensors(ptcl_coords, weights=ptcl_masses)\n",
    "evals, evecs = np.linalg.eigh(I)\n",
    "\n",
    "print(np.sqrt(evals[0, ::-1]))\n",
    "print(t_1['a'][i], t_1['b'][i], t_1['c'][i])\n",
    "\n",
    "print('')\n",
    "print(evecs[0,:,2])\n",
    "print(Av_1[i])\n",
    "print('')\n",
    "print(evecs[0,:,1])\n",
    "print(Bv_1[i])\n",
    "print('')\n",
    "print(evecs[0,:,0])\n",
    "print(Cv_1[i])\n",
    "\n",
    "a = t_1['a'][i]\n",
    "b = t_1['b'][i]\n",
    "c = t_1['c'][i]"
   ]
  },
  {
   "cell_type": "markdown",
   "metadata": {},
   "source": [
    "## rotate into eigenvector axis"
   ]
  },
  {
   "cell_type": "code",
   "execution_count": 246,
   "metadata": {},
   "outputs": [
    {
     "name": "stdout",
     "output_type": "stream",
     "text": [
      "[[ 0.78729935  0.45801625  0.41277216]\n",
      " [-0.54788971  0.82675589  0.12763842]\n",
      " [ 0.28280134  0.32664326 -0.90184676]]\n"
     ]
    }
   ],
   "source": [
    "from rotations.rotations3d import rotation_matrices_from_basis\n",
    "from rotations import rotate_vector_collection\n",
    "\n",
    "Av_1 = np.vstack((t_1['av_x'], t_1['av_y'], t_1['av_z'])).T\n",
    "Bv_1 = np.vstack((t_1['bv_x'], t_1['bv_y'], t_1['bv_z'])).T\n",
    "Cv_1 = np.vstack((t_1['cv_x'], t_1['cv_y'], t_1['cv_z'])).T\n",
    "\n",
    "rot = rotation_matrices_from_basis([evecs[0,:,2]], [evecs[0,:,1]], [evecs[0,:,0]])\n",
    "#rot = np.linalg.inv(rot)[0]\n",
    "rot = rot[0].T\n",
    "\n",
    "a = t_1['a'][i]\n",
    "b = t_1['b'][i]\n",
    "c = t_1['c'][i]\n",
    "\n",
    "print(rot)"
   ]
  },
  {
   "cell_type": "code",
   "execution_count": 247,
   "metadata": {},
   "outputs": [
    {
     "name": "stdout",
     "output_type": "stream",
     "text": [
      "[-1.00000000e+00 -1.05673113e-13 -1.21822936e-15]\n",
      "[-1.05673113e-13  1.00000000e+00  4.41985516e-15]\n",
      "[-1.21822936e-15 -4.43556604e-15  1.00000000e+00]\n",
      "\n",
      "0.6512290650751861\n",
      "0.6398117552802419\n",
      "0.4080889906698167\n",
      "0.6512290650751824 0.6398117552802419 0.4080889906698137\n"
     ]
    }
   ],
   "source": [
    "xx = rotate_vector_collection(rot, ptcl_coords)/gal_rhalf \n",
    "from inertia_tensors import reduced_inertia_tensors\n",
    "\n",
    "I = reduced_inertia_tensors(xx, weights=ptcl_masses)\n",
    "evals, evecs = np.linalg.eigh(I)\n",
    "print(evecs[0,:,2])\n",
    "print(evecs[0,:,1])\n",
    "print(evecs[0,:,0])\n",
    "\n",
    "print('')\n",
    "print(np.sqrt(evals[0,2]))\n",
    "print(np.sqrt(evals[0,1]))\n",
    "print(np.sqrt(evals[0,0]))\n",
    "print(a, b, c)\n"
   ]
  },
  {
   "cell_type": "code",
   "execution_count": 248,
   "metadata": {},
   "outputs": [
    {
     "name": "stdout",
     "output_type": "stream",
     "text": [
      "\n",
      "0.4240992951986961\n",
      "0.4093590821947841\n",
      "0.16653662430590727\n",
      "0.6512290650751824 0.6398117552802419 0.4080889906698137\n",
      "[[ 0.78729935  0.45801625  0.41277216]\n",
      " [-0.54788971  0.82675589  0.12763842]\n",
      " [ 0.28280134  0.32664326 -0.90184676]]\n"
     ]
    }
   ],
   "source": [
    "I = reduced_inertia_tensors(ptcl_coords, weights=ptcl_masses)\n",
    "evals, evecs = np.linalg.eigh(I)\n",
    "\n",
    "print('')\n",
    "print(evals[0,2])\n",
    "print(evals[0,1])\n",
    "print(evals[0,0])\n",
    "print(a, b, c)\n",
    "\n",
    "rot = np.zeros((3,3))\n",
    "rot[:,0] = evecs[0,:,2]\n",
    "rot[:,1] = evecs[0,:,1]\n",
    "rot[:,2] = evecs[0,:,0]\n",
    "rot = rot.T\n",
    "\n",
    "print(rot)"
   ]
  },
  {
   "cell_type": "markdown",
   "metadata": {},
   "source": [
    "## make image"
   ]
  },
  {
   "cell_type": "code",
   "execution_count": 249,
   "metadata": {},
   "outputs": [
    {
     "name": "stderr",
     "output_type": "stream",
     "text": [
      "/anaconda2/lib/python2.7/site-packages/ipykernel_launcher.py:2: RuntimeWarning: divide by zero encountered in log10\n",
      "  \n",
      "/anaconda2/lib/python2.7/site-packages/ipykernel_launcher.py:3: RuntimeWarning: divide by zero encountered in log10\n",
      "  This is separate from the ipykernel package so we can avoid doing imports until\n",
      "/anaconda2/lib/python2.7/site-packages/ipykernel_launcher.py:4: RuntimeWarning: divide by zero encountered in log10\n",
      "  after removing the cwd from sys.path.\n"
     ]
    }
   ],
   "source": [
    "bins = np.linspace(-3,3,100)\n",
    "counts_xy = np.log10(np.histogram2d(xx[:,0], xx[:,1], bins=bins, weights=ptcl_masses)[0])\n",
    "counts_xz = np.log10(np.histogram2d(xx[:,0], xx[:,2], bins=bins, weights=ptcl_masses)[0])\n",
    "counts_yz = np.log10(np.histogram2d(xx[:,1], xx[:,2], bins=bins, weights=ptcl_masses)[0])\n",
    "\n",
    "#counts_xy = np.histogram2d(xx[:,0], xx[:,1], bins=bins, weights=ptcl_masses)[0]\n",
    "#counts_xz = np.histogram2d(xx[:,0], xx[:,2], bins=bins, weights=ptcl_masses)[0]\n",
    "#counts_yz = np.histogram2d(xx[:,1], xx[:,2], bins=bins, weights=ptcl_masses)[0]"
   ]
  },
  {
   "cell_type": "code",
   "execution_count": 250,
   "metadata": {},
   "outputs": [
    {
     "data": {
      "image/png": "[encoded data removed]",
      "text/plain": [
       "<Figure size 237.6x237.6 with 1 Axes>"
      ]
     },
     "metadata": {},
     "output_type": "display_data"
    },
    {
     "data": {
      "image/png": "[encoded data removed]",
      "text/plain": [
       "<Figure size 237.6x237.6 with 1 Axes>"
      ]
     },
     "metadata": {},
     "output_type": "display_data"
    },
    {
     "data": {
      "image/png": "[encoded data removed]",
      "text/plain": [
       "<Figure size 237.6x237.6 with 1 Axes>"
      ]
     },
     "metadata": {},
     "output_type": "display_data"
    }
   ],
   "source": [
    "from matplotlib.collections import PatchCollection\n",
    "from matplotlib.patches import Ellipse\n",
    "\n",
    "fig, ax = plt.subplots(1,1, figsize=(3.3,3.3))\n",
    "fig.subplots_adjust(left=0.2, right=0.9, bottom=0.2, top=0.9)\n",
    "plt.imshow(counts_xy, extent=[-3,3,-3,3], origin='lower')\n",
    "ellipse_0 = Ellipse([0,0], 2*a, 2*b, angle=0, facecolor='none', edgecolor='white')\n",
    "ax.add_artist(ellipse_0)\n",
    "#plt.plot([0,a],[0,0], '-', color='black')\n",
    "#plt.plot([0,0],[0,b], '-', color='black')\n",
    "plt.xlim([-1, 1])\n",
    "plt.ylim([-1, 1])\n",
    "plt.show()\n",
    "\n",
    "fig, ax = plt.subplots(1,1, figsize=(3.3,3.3))\n",
    "fig.subplots_adjust(left=0.2, right=0.9, bottom=0.2, top=0.9)\n",
    "plt.imshow(counts_xz, extent=[-3,3,-3,3], origin='lower')\n",
    "#plt.plot(xx[:,0], xx[:,2], '.', ms=1, alpha=0.01)\n",
    "ellipse_0 = Ellipse([0,0], 2*a, 2*c, angle=90, facecolor='none', edgecolor='white')\n",
    "ax.add_artist(ellipse_0)\n",
    "#plt.plot([0,0],[0,c], '-', color='black')\n",
    "#plt.plot([0,a],[0,0], '-', color='black')\n",
    "plt.xlim([-1, 1])\n",
    "plt.ylim([-1, 1])\n",
    "plt.show()\n",
    "\n",
    "fig, ax = plt.subplots(1,1, figsize=(3.3,3.3))\n",
    "fig.subplots_adjust(left=0.2, right=0.9, bottom=0.2, top=0.9)\n",
    "plt.imshow(counts_yz, extent=[-3,3,-3,3], origin='lower')\n",
    "#plt.plot(xx[:,1], xx[:,2], '.', ms=1, alpha=0.01)\n",
    "ellipse_0 = Ellipse([0,0], 2*b, 2*c, angle=90, facecolor='none', edgecolor='white')\n",
    "ax.add_artist(ellipse_0)\n",
    "#plt.plot([0,0],[0,c], '-', color='black')\n",
    "#plt.plot([0,b],[0,0], '-', color='black')\n",
    "plt.xlim([-1, 1])\n",
    "plt.ylim([-1, 1])\n",
    "plt.show()"
   ]
  },
  {
   "cell_type": "markdown",
   "metadata": {},
   "source": [
    "# utility functions"
   ]
  },
  {
   "cell_type": "code",
   "execution_count": 37,
   "metadata": {},
   "outputs": [],
   "source": [
    "from illustris_python.snapshot import loadHalo, snapPath, loadSubhalo\n",
    "from illustris_python.groupcat import gcPath, loadHalos, loadSubhalos\n",
    "\n",
    "def format_particles(center, coords, Lbox):\n",
    "    \"\"\"\n",
    "    center the partivcle coordinates on (0,0,0) and account for PBCs\n",
    "\n",
    "    Parameters\n",
    "    ----------\n",
    "    center : array_like\n",
    "        array of shape (3,) storing the coordinates of the\n",
    "        center of the particle distribution\n",
    "\n",
    "    coords :  array_like\n",
    "        array of shape (nptcls, 3) storing the coordinates of the\n",
    "        particles\n",
    "\n",
    "    Lbox : array_like\n",
    "        length 3-array giving the box size in each dimension\n",
    "\n",
    "    Returns\n",
    "    -------\n",
    "    coords : numpy.array\n",
    "        array of shape (nptcls, 3) storing the centered particle coordinates\n",
    "    \"\"\"\n",
    "\n",
    "    dx = coords[:,0] - center[0]\n",
    "    dy = coords[:,1] - center[1]\n",
    "    dz = coords[:,2] - center[2]\n",
    "\n",
    "    # x-coordinate\n",
    "    mask = (dx > Lbox[0]/2.0)\n",
    "    dx[mask] = dx[mask] - Lbox[0]\n",
    "    mask = (dx < -Lbox[0]/2.0)\n",
    "    dx[mask] = dx[mask] + Lbox[0]\n",
    "\n",
    "    # y-coordinate\n",
    "    mask = (dy > Lbox[1]/2.0)\n",
    "    dy[mask] = dy[mask] - Lbox[1]\n",
    "    mask = (dy < -Lbox[1]/2.0)\n",
    "    dy[mask] = dy[mask] + Lbox[1]\n",
    "\n",
    "    # z-coordinate\n",
    "    mask = (dz > Lbox[2]/2.0)\n",
    "    dz[mask] = dz[mask] - Lbox[2]\n",
    "    mask = (dz < -Lbox[2]/2.0)\n",
    "    dz[mask] = dz[mask] + Lbox[2]\n",
    "\n",
    "    # format coordinates\n",
    "    coords = np.vstack((dx,dy,dz)).T\n",
    "\n",
    "    return coords\n",
    "\n",
    "\n",
    "def particle_selection(gal_id, ptcl_coords, basePath, snapNum, radial_mask=True):\n",
    "    \"\"\"\n",
    "    Apply the selection criteria to galaxy particles\n",
    "\n",
    "    Returns\n",
    "    -------\n",
    "    mask : numpy.array\n",
    "       boolean array of shape (nptcls,)\n",
    "    \"\"\"\n",
    "\n",
    "    # don't use wind particles\n",
    "    sf_time = loadSubhalo(basePath, snapNum, gal_id, 4, fields=['GFM_StellarFormationTime'])\n",
    "    star_mask = (sf_time>=0.0) # don't use wind particles\n",
    "\n",
    "    # get the half mass radius\n",
    "    gal_rhalfs = loadSubhalos(basePath, snapNum, fields=['SubhaloHalfmassRadType'])[:,4]/1000.0\n",
    "    gal_rhalf = gal_rhalfs[gal_id]\n",
    "\n",
    "    # use only particles within 2 * R_half\n",
    "    r = np.sqrt(np.sum(ptcl_coords**2, axis=1))/gal_rhalf\n",
    "    if radial_mask:\n",
    "        radial_mask = (r<=2.0)\n",
    "    else:\n",
    "        radial_mask = np.array([True]*len(star_mask))\n",
    "\n",
    "    return (radial_mask) & (star_mask)\n",
    "\n",
    "\n",
    "def galaxy_center(gal_id, basePath, snapNum):\n",
    "    \"\"\"\n",
    "    Return the coordinates of the center of the galaxy\n",
    "    \"\"\"\n",
    "\n",
    "    # load position of the most bound particle (of any type)\n",
    "    coords = loadSubhalos(basePath, snapNum, fields=['SubhaloPos'])/1000.0\n",
    "    coord = coords[gal_id]\n",
    "\n",
    "    return coord"
   ]
  },
  {
   "cell_type": "code",
   "execution_count": null,
   "metadata": {},
   "outputs": [],
   "source": []
  },
  {
   "cell_type": "code",
   "execution_count": null,
   "metadata": {},
   "outputs": [],
   "source": []
  }
 ],
 "metadata": {
  "kernelspec": {
   "display_name": "Python 2",
   "language": "python",
   "name": "python2"
  },
  "language_info": {
   "codemirror_mode": {
    "name": "ipython",
    "version": 2
   },
   "file_extension": ".py",
   "mimetype": "text/x-python",
   "name": "python",
   "nbconvert_exporter": "python",
   "pygments_lexer": "ipython2",
   "version": "2.7.15"
  }
 },
 "nbformat": 4,
 "nbformat_minor": 2
}
