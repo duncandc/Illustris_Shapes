{
 "cells": [
  {
   "cell_type": "code",
   "execution_count": 6,
   "metadata": {},
   "outputs": [],
   "source": [
    "import numpy as np\n",
    "import matplotlib.pyplot as plt\n",
    "from __future__ import print_function, division\n",
    "%matplotlib inline"
   ]
  },
  {
   "cell_type": "markdown",
   "metadata": {},
   "source": [
    "# Demo Illustris Galaxy Shapes"
   ]
  },
  {
   "cell_type": "markdown",
   "metadata": {},
   "source": [
    "In this notebook, we load the stellar particles from a few galaxies in an Illustris simulation.  Then, using some pre-computed shape measurements, I rotate each galaxy so that it is axis-aligned, i.e. the major, intermediate, and minor axes are aligned with the x,y, and z cartesian axes.  A plot of this image is used in the README for this project. "
   ]
  },
  {
   "cell_type": "markdown",
   "metadata": {},
   "source": [
    "## Simulation Data"
   ]
  },
  {
   "cell_type": "markdown",
   "metadata": {},
   "source": [
    "Here I specify which simulation to examine."
   ]
  },
  {
   "cell_type": "code",
   "execution_count": 7,
   "metadata": {},
   "outputs": [],
   "source": [
    "# specify simulation\n",
    "simname = 'Illustris-1'\n",
    "snapNum = 99\n",
    "shape_type = 'iterative'"
   ]
  },
  {
   "cell_type": "code",
   "execution_count": 8,
   "metadata": {},
   "outputs": [],
   "source": [
    "# load simulation information\n",
    "from Illustris_Shapes.simulation_props import sim_prop_dict\n",
    "d = sim_prop_dict[simname]\n",
    "basePath = d['basePath']\n",
    "Lbox = d['Lbox']\n",
    "\n",
    "# load pre-computed shape catalog\n",
    "from astropy.table import Table\n",
    "fname = simname + '_' + str(snapNum) + '_' + shape_type + '_' +'galaxy_shapes'+ '.dat' \n",
    "t_1 = Table.read('../data/shape_catalogs/'+fname, format='ascii')"
   ]
  },
  {
   "cell_type": "markdown",
   "metadata": {},
   "source": [
    "## Utility Functions"
   ]
  },
  {
   "cell_type": "markdown",
   "metadata": {},
   "source": [
    "In this section, I define a function to apply a rotation matrix to a set of particle coordinates given the eigenvectors that define the orientation of a galaxy.  You will need the `illustris_python` and `rotations` packages. \n",
    "\n",
    "I also define a function to make a density-weighted porojected image of a galaxy."
   ]
  },
  {
   "cell_type": "code",
   "execution_count": 9,
   "metadata": {},
   "outputs": [],
   "source": [
    "from Illustris_Shapes.calculate_galaxy_shapes import format_particles, particle_selection, galaxy_center\n",
    "from illustris_python.snapshot import loadHalo, snapPath, loadSubhalo\n",
    "from illustris_python.groupcat import gcPath, loadHalos, loadSubhalos\n",
    "from rotations.rotations3d import rotation_matrices_from_basis\n",
    "from rotations import rotate_vector_collection"
   ]
  },
  {
   "cell_type": "code",
   "execution_count": 10,
   "metadata": {},
   "outputs": [],
   "source": [
    "def axis_aligned_ptcl_dist(gal_id, Av, Bv, Cv):\n",
    "    \"\"\"\n",
    "    return the axis aligned stellar partiucle distribution of a galaxy\n",
    "    \"\"\"\n",
    "    fields = ['SubhaloGrNr', 'SubhaloMassInRadType', 'SubhaloPos', 'SubhaloHalfmassRadType']\n",
    "    galaxy_table = loadSubhalos(basePath, snapNum, fields=fields)\n",
    "    gal_position = galaxy_center(gal_id, galaxy_table)\n",
    "    \n",
    "    \n",
    "    # load stellar particle positions and masses\n",
    "    ptcl_coords = loadSubhalo(basePath, snapNum, gal_id, 4, fields=['Coordinates'])/1000.0\n",
    "    ptcl_masses = loadSubhalo(basePath, snapNum, gal_id, 4, fields=['Masses'])*10.0**10\n",
    "\n",
    "    # center and account for PBCs\n",
    "    ptcl_coords = format_particles(gal_position, ptcl_coords, Lbox)\n",
    "    \n",
    "    # make selection\n",
    "    ptcl_mask = particle_selection(gal_id, ptcl_coords, galaxy_table,\n",
    "                                   basePath, snapNum, radial_mask=False)\n",
    "    \n",
    "    # exrtract particles for the galaxy\n",
    "    ptcl_coords = ptcl_coords[ptcl_mask]\n",
    "    ptcl_masses = ptcl_masses[ptcl_mask]\n",
    "    \n",
    "    # build a rotation matrix\n",
    "    rot = rotation_matrices_from_basis([Av], [Bv], [Cv])\n",
    "    rot = rot[0].T\n",
    "    \n",
    "    # rotate the particles to be axis-aligned\n",
    "    ptcl_coords = rotate_vector_collection(rot, ptcl_coords)\n",
    "    \n",
    "    # get the half mass radius\n",
    "    gal_rhalfs = loadSubhalos(basePath, snapNum, fields=['SubhaloHalfmassRadType'])[:,4]/1000.00\n",
    "    gal_rhalf = gal_rhalfs[gal_id]\n",
    "    \n",
    "    # scale coordinates by the half-mass radius\n",
    "    return ptcl_coords/gal_rhalf, ptcl_masses\n",
    "\n",
    "\n",
    "def major_minor_image(ptcl_coords, ptcl_masses, log_density=True):\n",
    "    \"\"\"\n",
    "    Return a surface density weighted image of a galaxy.  \n",
    "    The galaxy is projected along the y-axis.   \n",
    "    \"\"\"\n",
    "    bins = np.linspace(-2,2,50)\n",
    "    with np.errstate(divide='ignore'):\n",
    "        if log_density:\n",
    "            counts_xz = np.log10(np.histogram2d(ptcl_coords[:,0], ptcl_coords[:,2],\n",
    "                                                bins=bins, weights=ptcl_masses)[0])\n",
    "            # mask out \n",
    "            mask = (im==-1.0*np.inf)\n",
    "            im[mask] = np.min(im)\n",
    "        else:\n",
    "            counts_xz = np.histogram2d(ptcl_coords[:,0], ptcl_coords[:,2],\n",
    "                                       bins=bins, weights=ptcl_masses)[0]\n",
    "    \n",
    "    # rotate image orientation\n",
    "    im = counts_xz.T\n",
    "    \n",
    "    return im"
   ]
  },
  {
   "cell_type": "markdown",
   "metadata": {},
   "source": [
    "## Select Galaxies"
   ]
  },
  {
   "cell_type": "markdown",
   "metadata": {},
   "source": [
    "Define the eigenvectors for each galaxy."
   ]
  },
  {
   "cell_type": "code",
   "execution_count": 11,
   "metadata": {},
   "outputs": [],
   "source": [
    "Av = np.vstack((t_1['av_x'], t_1['av_y'], t_1['av_z'])).T\n",
    "Bv = np.vstack((t_1['bv_x'], t_1['bv_y'], t_1['bv_z'])).T\n",
    "Cv = np.vstack((t_1['cv_x'], t_1['cv_y'], t_1['cv_z'])).T\n",
    "ids = t_1['gal_id']"
   ]
  },
  {
   "cell_type": "markdown",
   "metadata": {},
   "source": [
    "Select galaxies with a stellar mass greater than $10^{10.5} M_{\\odot}$."
   ]
  },
  {
   "cell_type": "code",
   "execution_count": null,
   "metadata": {},
   "outputs": [],
   "source": [
    "# make selection\n",
    "galaxy_table = loadSubhalos(basePath, snapNum, fields=['SubhaloGrNr', 'SubhaloMassInRadType'])\n",
    "gal_ids = np.arange(0,len(galaxy_table['SubhaloGrNr']))\n",
    "\n",
    "# mass of stellar particles within 2*R_half\n",
    "mstar = galaxy_table['SubhaloMassInRadType'][:,4]\n",
    "mstar = mstar*10**10\n",
    "\n",
    "mask = (mstar > 10**10.5)\n",
    "\n",
    "from halotools.utils import crossmatch\n",
    "idx, idy = crossmatch(ids,gal_ids[mask])"
   ]
  },
  {
   "cell_type": "markdown",
   "metadata": {},
   "source": [
    "## Plot Galaxy Images"
   ]
  },
  {
   "cell_type": "markdown",
   "metadata": {},
   "source": [
    "Here we randomly select five galaxies from the selection made in the previous block.  Then for each galaxy, we axis-align the particles and create an image of the galaxy.  Over-plotted on each image is the projected shape ellipsoid and the half-mass circular radius.   "
   ]
  },
  {
   "cell_type": "code",
   "execution_count": null,
   "metadata": {},
   "outputs": [],
   "source": [
    "from matplotlib.collections import PatchCollection\n",
    "from matplotlib.patches import Ellipse\n",
    "\n",
    "inds = np.random.random_integers(0, high=len(idx), size=5)\n",
    "inds = idx[inds]\n",
    "\n",
    "fig, axes = plt.subplots(1,5, figsize=(3.3*5,3.3))\n",
    "\n",
    "# panel 1\n",
    "i = inds[0]\n",
    "ptcl_coords, ptcl_masses = axis_aligned_ptcl_dist(ids[i], Av[i], Bv[i], Cv[i])\n",
    "im = major_minor_image(ptcl_coords, ptcl_masses)\n",
    "a, c = t_1['a'][i], t_1['c'][i]\n",
    "\n",
    "ax=axes[0]\n",
    "ax.set_title('galaxy ID = ' + str(ids[i]))\n",
    "ax.imshow(im, extent=[-2.5,2.5,-2.5,2.5], origin='lower', vmin=5)\n",
    "ellipse_0 = Ellipse([0,0], 2*a, 2*c, angle=0, facecolor='none', edgecolor='red')\n",
    "ax.add_artist(ellipse_0)\n",
    "ellipse_0 = Ellipse([0,0], 2*2, 2*2, angle=0, facecolor='none', edgecolor='white', linestyle='--')\n",
    "ax.add_artist(ellipse_0)\n",
    "ax.set_xlim([-2.5, 2.5])\n",
    "ax.set_ylim([-2.5, 2.5])\n",
    "ax.set_xlabel(r'$x/r_{1/2}$')\n",
    "ax.set_ylabel(r'$z/r_{1/2}$')\n",
    "\n",
    "# panel 2\n",
    "i = inds[1]\n",
    "ptcl_coords, ptcl_masses = axis_aligned_ptcl_dist(ids[i], Av[i], Bv[i], Cv[i])\n",
    "im = major_minor_image(ptcl_coords, ptcl_masses)\n",
    "a, c = t_1['a'][i], t_1['c'][i]\n",
    "\n",
    "ax=axes[1]\n",
    "ax.set_title('galaxy ID = ' + str(ids[i]))\n",
    "ax.imshow(im, extent=[-2.5,2.5,-2.5,2.5], origin='lower', vmin=5)\n",
    "ellipse_0 = Ellipse([0,0], 2*a, 2*c, angle=0, facecolor='none', edgecolor='red')\n",
    "ax.add_artist(ellipse_0)\n",
    "ellipse_0 = Ellipse([0,0], 2*2, 2*2, angle=0, facecolor='none', edgecolor='white', linestyle='--')\n",
    "ax.add_artist(ellipse_0)\n",
    "ax.set_xlim([-2.5, 2.5])\n",
    "ax.set_ylim([-2.5, 2.5])\n",
    "ax.set_xlabel(r'$x/r_{1/2}$')\n",
    "\n",
    "# panel 3\n",
    "i = inds[2]\n",
    "ptcl_coords, ptcl_masses = axis_aligned_ptcl_dist(ids[i], Av[i], Bv[i], Cv[i])\n",
    "im = major_minor_image(ptcl_coords, ptcl_masses)\n",
    "a, c = t_1['a'][i], t_1['c'][i]\n",
    "\n",
    "ax=axes[2]\n",
    "ax.set_title('galaxy ID = ' + str(ids[i]))\n",
    "ax.imshow(im, extent=[-2.5,2.5,-2.5,2.5], origin='lower', vmin=5)\n",
    "ellipse_0 = Ellipse([0,0], 2*a, 2*c, angle=0, facecolor='none', edgecolor='red')\n",
    "ax.add_artist(ellipse_0)\n",
    "ellipse_0 = Ellipse([0,0], 2*2, 2*2, angle=0, facecolor='none', edgecolor='white', linestyle='--')\n",
    "ax.add_artist(ellipse_0)\n",
    "ax.set_xlim([-2.5, 2.5])\n",
    "ax.set_ylim([-2.5, 2.5])\n",
    "ax.set_xlabel(r'$x/r_{1/2}$')\n",
    "\n",
    "# panel 4\n",
    "i = inds[3]\n",
    "ptcl_coords, ptcl_masses = axis_aligned_ptcl_dist(ids[i], Av[i], Bv[i], Cv[i])\n",
    "im = major_minor_image(ptcl_coords, ptcl_masses)\n",
    "a, c = t_1['a'][i], t_1['c'][i]\n",
    "\n",
    "ax=axes[3]\n",
    "ax.set_title('galaxy ID = ' + str(ids[i]))\n",
    "ax.imshow(im, extent=[-2.5,2.5,-2.5,2.5], origin='lower', vmin=5)\n",
    "ellipse_0 = Ellipse([0,0], 2*a, 2*c, angle=0, facecolor='none', edgecolor='red')\n",
    "ax.add_artist(ellipse_0)\n",
    "ellipse_0 = Ellipse([0,0], 2*2, 2*2, angle=0, facecolor='none', edgecolor='white', linestyle='--')\n",
    "ax.add_artist(ellipse_0)\n",
    "ax.set_xlim([-2.5, 2.5])\n",
    "ax.set_ylim([-2.5, 2.5])\n",
    "ax.set_xlabel(r'$x/r_{1/2}$')\n",
    "\n",
    "# panel 5\n",
    "i = inds[4]\n",
    "ptcl_coords, ptcl_masses = axis_aligned_ptcl_dist(ids[i], Av[i], Bv[i], Cv[i])\n",
    "im = major_minor_image(ptcl_coords, ptcl_masses)\n",
    "a, c = t_1['a'][i], t_1['c'][i]\n",
    "\n",
    "ax=axes[4]\n",
    "ax.set_title('galaxy ID = ' + str(ids[i]))\n",
    "ax.imshow(im, extent=[-2.5,2.5,-2.5,2.5], origin='lower', vmin=5)\n",
    "ellipse_0 = Ellipse([0,0], 2*a, 2*c, angle=0, facecolor='none', edgecolor='red')\n",
    "ax.add_artist(ellipse_0)\n",
    "ellipse_0 = Ellipse([0,0], 2*2, 2*2, angle=0, facecolor='none', edgecolor='white', linestyle='--')\n",
    "ax.add_artist(ellipse_0)\n",
    "ax.set_xlim([-2.5, 2.5])\n",
    "ax.set_ylim([-2.5, 2.5])\n",
    "ax.set_xlabel(r'$x/r_{1/2}$')\n",
    "\n",
    "plt.show()\n",
    "\n",
    "#fig.savefig('./figures/demo_shapes.png')"
   ]
  },
  {
   "cell_type": "code",
   "execution_count": null,
   "metadata": {},
   "outputs": [],
   "source": []
  }
 ],
 "metadata": {
  "kernelspec": {
   "display_name": "Python 2",
   "language": "python",
   "name": "python2"
  },
  "language_info": {
   "codemirror_mode": {
    "name": "ipython",
    "version": 2
   },
   "file_extension": ".py",
   "mimetype": "text/x-python",
   "name": "python",
   "nbconvert_exporter": "python",
   "pygments_lexer": "ipython2",
   "version": "2.7.16"
  }
 },
 "nbformat": 4,
 "nbformat_minor": 2
}
